{
 "cells": [
  {
   "cell_type": "code",
   "execution_count": null,
   "id": "746b9425-7aaf-4d01-add3-a465512c2190",
   "metadata": {},
   "outputs": [],
   "source": [
    "import pandas as pd\n",
    "import numpy as np\n",
    "from matplotlib import pyplot as plt\n",
    "import seaborn as sns"
   ]
  },
  {
   "cell_type": "markdown",
   "id": "6f1e6cc9-e7c4-4ac1-8c8c-7d52ad80ee4a",
   "metadata": {},
   "source": [
    "## Loading Data Into Pandas DataFrames"
   ]
  },
  {
   "cell_type": "code",
   "execution_count": null,
   "id": "f3764a6e-69f5-4107-85f5-a2e6c80868ed",
   "metadata": {},
   "outputs": [],
   "source": [
    "# example: loading the synthetic patients file simulated for the state of Massachusetts\n",
    "patients_ma = pd.read_parquet('https://dicbworkshops.s3.amazonaws.com/output_ma/parquet/patients.parquet')"
   ]
  },
  {
   "cell_type": "code",
   "execution_count": null,
   "id": "a26a8f5f-fc93-4b18-b7c2-0bb1a53c6958",
   "metadata": {},
   "outputs": [],
   "source": [
    "# display the first 5 rows\n",
    "patients_ma.head(5)"
   ]
  },
  {
   "cell_type": "code",
   "execution_count": null,
   "id": "fa39f7d3-2318-4714-a2bf-2e59cd889d07",
   "metadata": {},
   "outputs": [],
   "source": [
    "# display the columns in the DataFrame\n",
    "patients_ma.columns"
   ]
  },
  {
   "cell_type": "code",
   "execution_count": null,
   "id": "10182c76-37ae-4fbf-8759-577883140523",
   "metadata": {},
   "outputs": [],
   "source": [
    "# display the columns and their datatypes\n",
    "patients_ma.dtypes"
   ]
  },
  {
   "cell_type": "code",
   "execution_count": null,
   "id": "57ae9f45-3bb3-410b-a5c2-151855fc6de4",
   "metadata": {},
   "outputs": [],
   "source": [
    "# accessing the data in a particular column\n",
    "patients_ma['FIRST']"
   ]
  },
  {
   "cell_type": "markdown",
   "id": "2db6142d-fcc4-4406-a2dd-ea6c33f8534e",
   "metadata": {},
   "source": [
    "## Basic Data Manipulation with DataFrames"
   ]
  },
  {
   "cell_type": "markdown",
   "id": "030ceeea-7047-4e9d-ae69-fdcc6797981f",
   "metadata": {},
   "source": [
    "### Counting"
   ]
  },
  {
   "cell_type": "code",
   "execution_count": null,
   "id": "3798be36-b206-49f9-86e8-760ec51f25da",
   "metadata": {},
   "outputs": [],
   "source": [
    "# count the number of male and female patients\n",
    "patients_ma['GENDER'].value_counts()"
   ]
  },
  {
   "cell_type": "markdown",
   "id": "cdbcc741-9332-4e13-9518-5f3b6ecc970c",
   "metadata": {},
   "source": [
    "### Cross tabulations/Contingency Tables"
   ]
  },
  {
   "cell_type": "code",
   "execution_count": null,
   "id": "81f3a716-06ad-4062-bad4-4d36f813e6da",
   "metadata": {},
   "outputs": [],
   "source": [
    "# count patients by gender and race\n",
    "pd.crosstab(patients_ma['GENDER'], patients_ma['RACE'])"
   ]
  },
  {
   "cell_type": "code",
   "execution_count": null,
   "id": "c26a2ba1-623f-47ec-9921-ad86ec181423",
   "metadata": {},
   "outputs": [],
   "source": [
    "# alternative method using df.pivot_table(), but need to provide an aggregate function\n",
    "patients_ma.pivot_table(index='GENDER', columns='RACE', aggfunc='size')"
   ]
  },
  {
   "cell_type": "code",
   "execution_count": null,
   "id": "ac6701b9-e16b-4121-bc91-f78b64c31be3",
   "metadata": {},
   "outputs": [],
   "source": [
    "# computing the average healthcare expenses by gender and race\n",
    "patients_ma.pivot_table(values='HEALTHCARE_EXPENSES', index='GENDER', columns='RACE', aggfunc='mean')"
   ]
  },
  {
   "cell_type": "markdown",
   "id": "aaf8103d-ba79-40e1-a772-351679bcc763",
   "metadata": {},
   "source": [
    "### Descriptive Statistics"
   ]
  },
  {
   "cell_type": "code",
   "execution_count": null,
   "id": "19367455-0c3c-4826-872e-244475830988",
   "metadata": {},
   "outputs": [],
   "source": [
    "# compute the average healthcare expenses\n",
    "patients_ma['HEALTHCARE_EXPENSES'].mean()"
   ]
  },
  {
   "cell_type": "code",
   "execution_count": null,
   "id": "7464dd82-9cee-4810-87ff-90e428cefac1",
   "metadata": {},
   "outputs": [],
   "source": [
    "# accessing a larger suite of descriptive statistics\n",
    "patients_ma['HEALTHCARE_EXPENSES'].describe()"
   ]
  },
  {
   "cell_type": "markdown",
   "id": "0a593a5a-acfe-48dd-86c2-96b686636de7",
   "metadata": {},
   "source": [
    "### Descriptive Statistics with Numpy"
   ]
  },
  {
   "cell_type": "code",
   "execution_count": null,
   "id": "d6cd82ac-e0a8-449a-aa6f-487604b5b91f",
   "metadata": {},
   "outputs": [],
   "source": [
    "# compute the average healthcare expenses\n",
    "np.mean(patients_ma['HEALTHCARE_EXPENSES'])"
   ]
  },
  {
   "cell_type": "code",
   "execution_count": null,
   "id": "b84e47b8-5733-49e3-9a7c-b3bccbba6bcc",
   "metadata": {},
   "outputs": [],
   "source": [
    "# compute the standard deviation of healthcare expenses\n",
    "np.std(patients_ma['HEALTHCARE_EXPENSES'])"
   ]
  },
  {
   "cell_type": "code",
   "execution_count": null,
   "id": "63ed04e0-c52b-4185-a596-f1f998cc7253",
   "metadata": {},
   "outputs": [],
   "source": [
    "# we can also call methods directly on columns/pandas series\n",
    "patients_ma['HEALTHCARE_EXPENSES'].std()"
   ]
  },
  {
   "cell_type": "markdown",
   "id": "67611a8a-3411-490c-b899-921e7d95a4cb",
   "metadata": {},
   "source": [
    "Quick Question: Why did Numpy's std() give a different (smaller) value for the standard deviation than Pandas?"
   ]
  },
  {
   "cell_type": "markdown",
   "id": "6515275b-13db-4fa0-8ccd-84d9345a2f96",
   "metadata": {},
   "source": [
    "### Filtering Rows and Columns"
   ]
  },
  {
   "cell_type": "code",
   "execution_count": null,
   "id": "070b395e-66f3-45b9-a95a-1279240e471f",
   "metadata": {},
   "outputs": [],
   "source": [
    "# Selecting only the BIRTHDATE, RACE, ETHNICITY, and SEX columns\n",
    "subset = patients_ma[['BIRTHDATE', 'RACE', 'ETHNICITY', 'GENDER']]"
   ]
  },
  {
   "cell_type": "code",
   "execution_count": null,
   "id": "5bb3fe3d-ea89-4a63-9a82-623c6a9aeae8",
   "metadata": {},
   "outputs": [],
   "source": [
    "subset"
   ]
  },
  {
   "cell_type": "code",
   "execution_count": null,
   "id": "24d4b15a-3bd6-401b-a662-d207e894a762",
   "metadata": {},
   "outputs": [],
   "source": [
    "# Selecting only patients who are female\n",
    "females = patients_ma[patients_ma['GENDER'] == 'F'] # or patients_ma.query('GENDER == \"F\"')"
   ]
  },
  {
   "cell_type": "code",
   "execution_count": null,
   "id": "bc02a924-3090-4380-a7c7-5a99a6e81526",
   "metadata": {},
   "outputs": [],
   "source": [
    "females"
   ]
  },
  {
   "cell_type": "code",
   "execution_count": null,
   "id": "d6acae92-dfa9-470e-a350-670b7cd83025",
   "metadata": {},
   "outputs": [],
   "source": [
    "# get patients born after 1990\n",
    "patients_ma[patients_ma['BIRTHDATE'] >= '1990-01-01']"
   ]
  },
  {
   "cell_type": "markdown",
   "id": "c6dccd0a-90cf-443a-ae80-06c94f65342b",
   "metadata": {},
   "source": [
    "### Sorting"
   ]
  },
  {
   "cell_type": "code",
   "execution_count": null,
   "id": "58fc90a6-1f38-4ed5-8062-2817e1a612e5",
   "metadata": {},
   "outputs": [],
   "source": [
    "# get patients born after 1990, and sort by birthdate\n",
    "patients_ma[patients_ma['BIRTHDATE'] >= '1990-01-01'].sort_values(by='BIRTHDATE')"
   ]
  },
  {
   "cell_type": "markdown",
   "id": "aa5f7d62-cc30-46b3-9077-066e3b1c1a64",
   "metadata": {},
   "source": [
    "### Assigning New Columns/Variables"
   ]
  },
  {
   "cell_type": "code",
   "execution_count": null,
   "id": "9b327216-c7b4-4d31-bec7-4d5c51839203",
   "metadata": {},
   "outputs": [],
   "source": [
    "# assign a full name column\n",
    "patients_ma['FULLNAME'] = patients_ma['FIRST'] + ' ' + patients_ma['MIDDLE'] + ' ' + patients_ma['LAST']"
   ]
  },
  {
   "cell_type": "code",
   "execution_count": null,
   "id": "e6b4d64a-1266-4942-85a6-fcde120c61ed",
   "metadata": {},
   "outputs": [],
   "source": [
    "patients_ma['FULLNAME']"
   ]
  },
  {
   "cell_type": "markdown",
   "id": "e6e53697-508d-4c36-8d53-b556cc4cb4f3",
   "metadata": {},
   "source": [
    "### Visualizing Distributions with Matplotlib and Pandas"
   ]
  },
  {
   "cell_type": "code",
   "execution_count": null,
   "id": "c75f1a83-5229-43f6-bcd3-520c9250740f",
   "metadata": {},
   "outputs": [],
   "source": [
    "# Plotting the distribution of income as a histogram\n",
    "fig, ax = plt.subplots(dpi=150)\n",
    "patients_ma['INCOME'].hist(bins=20, ax=ax)"
   ]
  },
  {
   "cell_type": "code",
   "execution_count": null,
   "id": "3929e592-66e8-4b04-8e85-c10bb81c241f",
   "metadata": {},
   "outputs": [],
   "source": [
    "# alternative using matplotlib directly\n",
    "plt.hist(patients_ma['INCOME'], bins=20)\n",
    "plt.show()"
   ]
  },
  {
   "cell_type": "markdown",
   "id": "2bf95e52-da49-413b-8bcf-3582537ee43d",
   "metadata": {},
   "source": [
    "### Grouped Histograms"
   ]
  },
  {
   "cell_type": "code",
   "execution_count": null,
   "id": "4f5fdb11-9d79-4da9-8fd4-cc9a7e54ee98",
   "metadata": {},
   "outputs": [],
   "source": [
    "# plotting the distributions of healthcare expenses by race\n",
    "fig, ax = plt.subplots(1, 2, dpi=150)\n",
    "patients_ma.hist('HEALTHCARE_EXPENSES', by='GENDER', bins=20, ax=ax)"
   ]
  },
  {
   "cell_type": "markdown",
   "id": "5fe6fb51-b8d9-4dfb-bc12-0307acb243e1",
   "metadata": {},
   "source": [
    "### Box Plots and Violing Plots with Seaborn"
   ]
  },
  {
   "cell_type": "code",
   "execution_count": null,
   "id": "c521b622-d976-47cd-8314-06214cc98e26",
   "metadata": {},
   "outputs": [],
   "source": [
    "# Alternative approaches to visualizing distributions with seaborn\n",
    "sns.boxplot(patients_ma, x='GENDER', y='HEALTHCARE_EXPENSES')"
   ]
  },
  {
   "cell_type": "code",
   "execution_count": null,
   "id": "ccf1b5d5-1e86-4296-81d6-cee2306cf817",
   "metadata": {},
   "outputs": [],
   "source": [
    "sns.boxplot(patients_ma, x='RACE', y='HEALTHCARE_EXPENSES', hue='GENDER')"
   ]
  },
  {
   "cell_type": "code",
   "execution_count": null,
   "id": "1b459826-a7aa-4fae-af94-cbaa903d4167",
   "metadata": {},
   "outputs": [],
   "source": [
    "sns.violinplot(patients_ma, x='GENDER', y='HEALTHCARE_EXPENSES')"
   ]
  },
  {
   "cell_type": "markdown",
   "id": "e87644a0-e9bf-4fbe-adf5-d2766def64b3",
   "metadata": {},
   "source": [
    "## Quick Exercises"
   ]
  },
  {
   "cell_type": "markdown",
   "id": "6f585516-99cc-4416-8e13-3d1e7a176768",
   "metadata": {},
   "source": [
    "### 1. What is the median income of patients born after January 1st 1995"
   ]
  },
  {
   "cell_type": "code",
   "execution_count": null,
   "id": "fde7730c-4d9c-4145-8764-b93bcffd356a",
   "metadata": {},
   "outputs": [],
   "source": [
    "# Write and run your solution here"
   ]
  },
  {
   "cell_type": "markdown",
   "id": "730eb169-332d-450f-ba86-3043113bd5ef",
   "metadata": {},
   "source": [
    "### 2. Count the number of patients in each COUNTY"
   ]
  },
  {
   "cell_type": "code",
   "execution_count": null,
   "id": "1ca64c09-a4b1-4a3f-995b-3bd33cddb393",
   "metadata": {},
   "outputs": [],
   "source": [
    "# Write and run your solution here"
   ]
  },
  {
   "cell_type": "markdown",
   "id": "f37ebb31-fa82-4f31-9de1-68fb14d0527f",
   "metadata": {},
   "source": [
    "### 3. What is the mean age (in years) of all patients?\n",
    "<details>\n",
    "    <summary>Hint 1</summary>\n",
    "    <h4>You can convert BIRTHDATE to the datetime data type using <code>pd.to_datetime()</code></h4>\n",
    "</details>\n",
    "<details>\n",
    "    <summary>Hint 2</summary>\n",
    "    <h4>You can get today's date with <code>pd.to_datetime(\"today\")</code></h4>\n",
    "</details>\n",
    "<details>\n",
    "    <summary>Hint 3</summary>\n",
    "    <h4>You can use the <code>.dt.days</code> method on a datetime column/series or datetime value to get the value of the date(s) expressed in days</h4>\n",
    "</details>\n"
   ]
  },
  {
   "cell_type": "code",
   "execution_count": null,
   "id": "5d13a342-fa87-4376-8df5-66cd91b1f111",
   "metadata": {},
   "outputs": [],
   "source": [
    "# Write and run your solution here"
   ]
  },
  {
   "cell_type": "markdown",
   "id": "d6ecd978-62f0-4e33-bb80-e4a08a1bfa99",
   "metadata": {},
   "source": [
    "### 4. Count the number of patients of each RACE who are over 60\n",
    "<details>\n",
    "    <summary>Hint</summary>\n",
    "    <h4>If you didn't save the AGE that we computed in the last exercise to a column/variable, do that first</h4>\n",
    "</details>"
   ]
  },
  {
   "cell_type": "code",
   "execution_count": null,
   "id": "1a440f69-04c6-4383-927d-0fd25da6876b",
   "metadata": {},
   "outputs": [],
   "source": [
    "# Write and run your solution here"
   ]
  },
  {
   "cell_type": "markdown",
   "id": "9ce27b8f-786c-43b8-bd72-aba80df35cc5",
   "metadata": {},
   "source": [
    "### 5. Generate a grouped histogram of income distributions by 10 year AGE cohorts\n"
   ]
  },
  {
   "cell_type": "code",
   "execution_count": null,
   "id": "cc8478dd-e24b-4129-9946-a133c798fce9",
   "metadata": {},
   "outputs": [],
   "source": [
    "# create an AGE_BIN column\n",
    "patients_ma['AGE_BIN'] = pd.cut(patients_ma['AGE'], np.arange(0, 120, 10), include_lowest=True)\n",
    "\n",
    "fig, ax = plt.subplots(3, 4, dpi=150, figsize=(8, 6))\n",
    "\n",
    "# Flatten the axes array\n",
    "ax = ax.flatten()\n",
    "\n",
    "# Count the number of unique AGE_BINs\n",
    "num_groups = patients_ma['AGE_BIN'].nunique()\n",
    "\n",
    "# insert your plotting code here, passing in ax=ax[:num_groups] as a keyword argument to the correct plot function"
   ]
  },
  {
   "cell_type": "markdown",
   "id": "b47b0de9-570d-4529-8024-81696c53e73f",
   "metadata": {},
   "source": [
    "### 6. Plot INCOME vs AGE for all patients\n",
    "<details>\n",
    "    <summary>Hint</summary>\n",
    "    <p>The pandas documentation for <a href=\"https://pandas.pydata.org/docs/reference/api/pandas.DataFrame.plot.scatter.html\">DataFrame.plot.scatter</a> might prove useful</p>\n",
    "</details>"
   ]
  },
  {
   "cell_type": "code",
   "execution_count": null,
   "id": "8238c950-2b96-407d-9862-be0062ef45c4",
   "metadata": {},
   "outputs": [],
   "source": [
    "# Write and run your solution here"
   ]
  }
 ],
 "metadata": {
  "kernelspec": {
   "display_name": "Python 3 (ipykernel)",
   "language": "python",
   "name": "python3"
  },
  "language_info": {
   "codemirror_mode": {
    "name": "ipython",
    "version": 3
   },
   "file_extension": ".py",
   "mimetype": "text/x-python",
   "name": "python",
   "nbconvert_exporter": "python",
   "pygments_lexer": "ipython3",
   "version": "3.10.14"
  }
 },
 "nbformat": 4,
 "nbformat_minor": 5
}
